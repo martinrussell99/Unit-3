{
 "cells": [
  {
   "cell_type": "markdown",
   "metadata": {},
   "source": [
    "# How would I utilize KNN with credit information to predict payment reliability"
   ]
  },
  {
   "cell_type": "markdown",
   "metadata": {},
   "source": [
    "Given the four spending catagories of dining out, groceries, utilities, and entertainment to decide payment reliability, I would look at the rate of default for customers who spend the most in each of the catagories.  Then I would analyze which most used combinations (groceries/utilities, dining out/entertainment, etc.) most often result in delenquent payments.  I would create a dataframe like the one below, with the total amount spent in each catagory summed, with a binary column designating whether the customer paid or defaulted (1, 0) with those totals.  Given the many different combinations, it would require a rather large sample to get an accurate representation, at least one thousand customers per sample.\n",
    "\n",
    "KNN would be useful because of the ease of modifying the model, adjusting the K-value for accuracy is easy, and adding more features is simple also.\n",
    "\n"
   ]
  },
  {
   "cell_type": "code",
   "execution_count": 1,
   "metadata": {},
   "outputs": [
    {
     "data": {
      "text/html": [
       "<div>\n",
       "<style scoped>\n",
       "    .dataframe tbody tr th:only-of-type {\n",
       "        vertical-align: middle;\n",
       "    }\n",
       "\n",
       "    .dataframe tbody tr th {\n",
       "        vertical-align: top;\n",
       "    }\n",
       "\n",
       "    .dataframe thead th {\n",
       "        text-align: right;\n",
       "    }\n",
       "</style>\n",
       "<table border=\"1\" class=\"dataframe\">\n",
       "  <thead>\n",
       "    <tr style=\"text-align: right;\">\n",
       "      <th></th>\n",
       "      <th>groceries</th>\n",
       "      <th>entertainment</th>\n",
       "      <th>utilities</th>\n",
       "      <th>diningout</th>\n",
       "      <th>default</th>\n",
       "    </tr>\n",
       "    <tr>\n",
       "      <th>custid</th>\n",
       "      <th></th>\n",
       "      <th></th>\n",
       "      <th></th>\n",
       "      <th></th>\n",
       "      <th></th>\n",
       "    </tr>\n",
       "  </thead>\n",
       "  <tbody>\n",
       "    <tr>\n",
       "      <th>1</th>\n",
       "      <td>25.66</td>\n",
       "      <td>55.66</td>\n",
       "      <td>200.00</td>\n",
       "      <td>0.00</td>\n",
       "      <td>0</td>\n",
       "    </tr>\n",
       "    <tr>\n",
       "      <th>2</th>\n",
       "      <td>500.25</td>\n",
       "      <td>78.99</td>\n",
       "      <td>100.00</td>\n",
       "      <td>99.00</td>\n",
       "      <td>1</td>\n",
       "    </tr>\n",
       "    <tr>\n",
       "      <th>3</th>\n",
       "      <td>300.50</td>\n",
       "      <td>10.00</td>\n",
       "      <td>99.99</td>\n",
       "      <td>77.00</td>\n",
       "      <td>1</td>\n",
       "    </tr>\n",
       "    <tr>\n",
       "      <th>4</th>\n",
       "      <td>60.00</td>\n",
       "      <td>1000.00</td>\n",
       "      <td>78.00</td>\n",
       "      <td>35.55</td>\n",
       "      <td>0</td>\n",
       "    </tr>\n",
       "    <tr>\n",
       "      <th>5</th>\n",
       "      <td>90.00</td>\n",
       "      <td>800.00</td>\n",
       "      <td>500.00</td>\n",
       "      <td>99.00</td>\n",
       "      <td>0</td>\n",
       "    </tr>\n",
       "    <tr>\n",
       "      <th>6</th>\n",
       "      <td>100.00</td>\n",
       "      <td>35.88</td>\n",
       "      <td>500.00</td>\n",
       "      <td>200.00</td>\n",
       "      <td>1</td>\n",
       "    </tr>\n",
       "    <tr>\n",
       "      <th>7</th>\n",
       "      <td>120.00</td>\n",
       "      <td>77.00</td>\n",
       "      <td>700.00</td>\n",
       "      <td>300.00</td>\n",
       "      <td>1</td>\n",
       "    </tr>\n",
       "  </tbody>\n",
       "</table>\n",
       "</div>"
      ],
      "text/plain": [
       "        groceries  entertainment  utilities  diningout  default\n",
       "custid                                                         \n",
       "1           25.66          55.66     200.00       0.00        0\n",
       "2          500.25          78.99     100.00      99.00        1\n",
       "3          300.50          10.00      99.99      77.00        1\n",
       "4           60.00        1000.00      78.00      35.55        0\n",
       "5           90.00         800.00     500.00      99.00        0\n",
       "6          100.00          35.88     500.00     200.00        1\n",
       "7          120.00          77.00     700.00     300.00        1"
      ]
     },
     "execution_count": 1,
     "metadata": {},
     "output_type": "execute_result"
    }
   ],
   "source": [
    "import pandas as pd\n",
    "df = pd.read_csv('credit_data.csv')\n",
    "df.set_index('custid')"
   ]
  },
  {
   "cell_type": "code",
   "execution_count": null,
   "metadata": {},
   "outputs": [],
   "source": []
  },
  {
   "cell_type": "code",
   "execution_count": null,
   "metadata": {},
   "outputs": [],
   "source": []
  }
 ],
 "metadata": {
  "kernelspec": {
   "display_name": "Python 3",
   "language": "python",
   "name": "python3"
  },
  "language_info": {
   "codemirror_mode": {
    "name": "ipython",
    "version": 3
   },
   "file_extension": ".py",
   "mimetype": "text/x-python",
   "name": "python",
   "nbconvert_exporter": "python",
   "pygments_lexer": "ipython3",
   "version": "3.6.5"
  }
 },
 "nbformat": 4,
 "nbformat_minor": 2
}
